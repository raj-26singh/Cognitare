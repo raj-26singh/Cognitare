{
 "cells": [
  {
   "cell_type": "code",
   "execution_count": 1,
   "id": "14293df3",
   "metadata": {},
   "outputs": [],
   "source": [
    "import pandas as pd\n",
    "import numpy as np\n",
    "import matplotlib.pyplot as plt"
   ]
  },
  {
   "cell_type": "code",
   "execution_count": 2,
   "id": "4704c779",
   "metadata": {},
   "outputs": [],
   "source": [
    "df = pd.read_excel(r'C:\\Users\\LENOVO\\OneDrive\\Documents\\Cognitare\\input_data_quiz.xlsx')"
   ]
  },
  {
   "cell_type": "code",
   "execution_count": 3,
   "id": "ee1673c3",
   "metadata": {},
   "outputs": [
    {
     "data": {
      "text/html": [
       "<div>\n",
       "<style scoped>\n",
       "    .dataframe tbody tr th:only-of-type {\n",
       "        vertical-align: middle;\n",
       "    }\n",
       "\n",
       "    .dataframe tbody tr th {\n",
       "        vertical-align: top;\n",
       "    }\n",
       "\n",
       "    .dataframe thead th {\n",
       "        text-align: right;\n",
       "    }\n",
       "</style>\n",
       "<table border=\"1\" class=\"dataframe\">\n",
       "  <thead>\n",
       "    <tr style=\"text-align: right;\">\n",
       "      <th></th>\n",
       "      <th>NPD_WELL_BORE_CODE</th>\n",
       "      <th>NPD_WELL_BORE_NAME</th>\n",
       "      <th>ON_STREAM_HRS</th>\n",
       "      <th>AVG_DOWNHOLE_PRESSURE</th>\n",
       "      <th>AVG_DOWNHOLE_TEMPERATURE</th>\n",
       "      <th>AVG_DP_TUBING</th>\n",
       "      <th>AVG_ANNULUS_PRESS</th>\n",
       "      <th>AVG_CHOKE_SIZE_P</th>\n",
       "      <th>AVG_WHP_P</th>\n",
       "      <th>AVG_WHT_P</th>\n",
       "      <th>DP_CHOKE_SIZE</th>\n",
       "      <th>BORE_OIL_VOL</th>\n",
       "      <th>BORE_GAS_VOL</th>\n",
       "      <th>BORE_WAT_VOL</th>\n",
       "    </tr>\n",
       "  </thead>\n",
       "  <tbody>\n",
       "    <tr>\n",
       "      <th>0</th>\n",
       "      <td>5599.0</td>\n",
       "      <td>15/9-F-12</td>\n",
       "      <td>11.50</td>\n",
       "      <td>308.056</td>\n",
       "      <td>104.418</td>\n",
       "      <td>201.250</td>\n",
       "      <td>18.640</td>\n",
       "      <td>14.48443</td>\n",
       "      <td>106.806</td>\n",
       "      <td>16.295</td>\n",
       "      <td>92.475</td>\n",
       "      <td>285.0</td>\n",
       "      <td>38889.0</td>\n",
       "      <td>385.0</td>\n",
       "    </tr>\n",
       "    <tr>\n",
       "      <th>1</th>\n",
       "      <td>5599.0</td>\n",
       "      <td>15/9-F-12</td>\n",
       "      <td>24.00</td>\n",
       "      <td>303.034</td>\n",
       "      <td>105.403</td>\n",
       "      <td>182.145</td>\n",
       "      <td>16.467</td>\n",
       "      <td>22.83299</td>\n",
       "      <td>120.889</td>\n",
       "      <td>53.374</td>\n",
       "      <td>89.620</td>\n",
       "      <td>1870.0</td>\n",
       "      <td>285246.0</td>\n",
       "      <td>7.0</td>\n",
       "    </tr>\n",
       "    <tr>\n",
       "      <th>2</th>\n",
       "      <td>5599.0</td>\n",
       "      <td>15/9-F-12</td>\n",
       "      <td>22.50</td>\n",
       "      <td>295.586</td>\n",
       "      <td>105.775</td>\n",
       "      <td>181.868</td>\n",
       "      <td>12.660</td>\n",
       "      <td>31.24997</td>\n",
       "      <td>113.718</td>\n",
       "      <td>72.738</td>\n",
       "      <td>80.120</td>\n",
       "      <td>3124.0</td>\n",
       "      <td>509955.0</td>\n",
       "      <td>1.0</td>\n",
       "    </tr>\n",
       "    <tr>\n",
       "      <th>3</th>\n",
       "      <td>5599.0</td>\n",
       "      <td>15/9-F-12</td>\n",
       "      <td>23.15</td>\n",
       "      <td>297.663</td>\n",
       "      <td>105.752</td>\n",
       "      <td>180.832</td>\n",
       "      <td>5.264</td>\n",
       "      <td>28.51893</td>\n",
       "      <td>116.831</td>\n",
       "      <td>69.996</td>\n",
       "      <td>84.251</td>\n",
       "      <td>2608.0</td>\n",
       "      <td>383427.0</td>\n",
       "      <td>1.0</td>\n",
       "    </tr>\n",
       "    <tr>\n",
       "      <th>4</th>\n",
       "      <td>5599.0</td>\n",
       "      <td>15/9-F-12</td>\n",
       "      <td>24.00</td>\n",
       "      <td>295.936</td>\n",
       "      <td>105.811</td>\n",
       "      <td>180.501</td>\n",
       "      <td>12.385</td>\n",
       "      <td>30.22790</td>\n",
       "      <td>115.434</td>\n",
       "      <td>71.518</td>\n",
       "      <td>82.359</td>\n",
       "      <td>3052.0</td>\n",
       "      <td>418474.0</td>\n",
       "      <td>5.0</td>\n",
       "    </tr>\n",
       "  </tbody>\n",
       "</table>\n",
       "</div>"
      ],
      "text/plain": [
       "   NPD_WELL_BORE_CODE NPD_WELL_BORE_NAME  ON_STREAM_HRS  \\\n",
       "0              5599.0          15/9-F-12          11.50   \n",
       "1              5599.0          15/9-F-12          24.00   \n",
       "2              5599.0          15/9-F-12          22.50   \n",
       "3              5599.0          15/9-F-12          23.15   \n",
       "4              5599.0          15/9-F-12          24.00   \n",
       "\n",
       "   AVG_DOWNHOLE_PRESSURE  AVG_DOWNHOLE_TEMPERATURE  AVG_DP_TUBING  \\\n",
       "0                308.056                   104.418        201.250   \n",
       "1                303.034                   105.403        182.145   \n",
       "2                295.586                   105.775        181.868   \n",
       "3                297.663                   105.752        180.832   \n",
       "4                295.936                   105.811        180.501   \n",
       "\n",
       "   AVG_ANNULUS_PRESS  AVG_CHOKE_SIZE_P  AVG_WHP_P  AVG_WHT_P  DP_CHOKE_SIZE  \\\n",
       "0             18.640          14.48443    106.806     16.295         92.475   \n",
       "1             16.467          22.83299    120.889     53.374         89.620   \n",
       "2             12.660          31.24997    113.718     72.738         80.120   \n",
       "3              5.264          28.51893    116.831     69.996         84.251   \n",
       "4             12.385          30.22790    115.434     71.518         82.359   \n",
       "\n",
       "   BORE_OIL_VOL  BORE_GAS_VOL  BORE_WAT_VOL  \n",
       "0         285.0       38889.0         385.0  \n",
       "1        1870.0      285246.0           7.0  \n",
       "2        3124.0      509955.0           1.0  \n",
       "3        2608.0      383427.0           1.0  \n",
       "4        3052.0      418474.0           5.0  "
      ]
     },
     "execution_count": 3,
     "metadata": {},
     "output_type": "execute_result"
    }
   ],
   "source": [
    "df.head()"
   ]
  },
  {
   "cell_type": "code",
   "execution_count": 4,
   "id": "28b43d14",
   "metadata": {},
   "outputs": [],
   "source": [
    "df.drop(columns=['NPD_WELL_BORE_CODE','NPD_WELL_BORE_NAME','AVG_DOWNHOLE_PRESSURE','AVG_DOWNHOLE_TEMPERATURE'],inplace=True)"
   ]
  },
  {
   "cell_type": "code",
   "execution_count": 5,
   "id": "586f657f",
   "metadata": {},
   "outputs": [
    {
     "data": {
      "text/html": [
       "<div>\n",
       "<style scoped>\n",
       "    .dataframe tbody tr th:only-of-type {\n",
       "        vertical-align: middle;\n",
       "    }\n",
       "\n",
       "    .dataframe tbody tr th {\n",
       "        vertical-align: top;\n",
       "    }\n",
       "\n",
       "    .dataframe thead th {\n",
       "        text-align: right;\n",
       "    }\n",
       "</style>\n",
       "<table border=\"1\" class=\"dataframe\">\n",
       "  <thead>\n",
       "    <tr style=\"text-align: right;\">\n",
       "      <th></th>\n",
       "      <th>ON_STREAM_HRS</th>\n",
       "      <th>AVG_DP_TUBING</th>\n",
       "      <th>AVG_ANNULUS_PRESS</th>\n",
       "      <th>AVG_CHOKE_SIZE_P</th>\n",
       "      <th>AVG_WHP_P</th>\n",
       "      <th>AVG_WHT_P</th>\n",
       "      <th>DP_CHOKE_SIZE</th>\n",
       "      <th>BORE_OIL_VOL</th>\n",
       "      <th>BORE_GAS_VOL</th>\n",
       "      <th>BORE_WAT_VOL</th>\n",
       "    </tr>\n",
       "  </thead>\n",
       "  <tbody>\n",
       "    <tr>\n",
       "      <th>0</th>\n",
       "      <td>11.50</td>\n",
       "      <td>201.250</td>\n",
       "      <td>18.640</td>\n",
       "      <td>14.48443</td>\n",
       "      <td>106.806</td>\n",
       "      <td>16.295</td>\n",
       "      <td>92.475</td>\n",
       "      <td>285.0</td>\n",
       "      <td>38889.0</td>\n",
       "      <td>385.0</td>\n",
       "    </tr>\n",
       "    <tr>\n",
       "      <th>1</th>\n",
       "      <td>24.00</td>\n",
       "      <td>182.145</td>\n",
       "      <td>16.467</td>\n",
       "      <td>22.83299</td>\n",
       "      <td>120.889</td>\n",
       "      <td>53.374</td>\n",
       "      <td>89.620</td>\n",
       "      <td>1870.0</td>\n",
       "      <td>285246.0</td>\n",
       "      <td>7.0</td>\n",
       "    </tr>\n",
       "    <tr>\n",
       "      <th>2</th>\n",
       "      <td>22.50</td>\n",
       "      <td>181.868</td>\n",
       "      <td>12.660</td>\n",
       "      <td>31.24997</td>\n",
       "      <td>113.718</td>\n",
       "      <td>72.738</td>\n",
       "      <td>80.120</td>\n",
       "      <td>3124.0</td>\n",
       "      <td>509955.0</td>\n",
       "      <td>1.0</td>\n",
       "    </tr>\n",
       "    <tr>\n",
       "      <th>3</th>\n",
       "      <td>23.15</td>\n",
       "      <td>180.832</td>\n",
       "      <td>5.264</td>\n",
       "      <td>28.51893</td>\n",
       "      <td>116.831</td>\n",
       "      <td>69.996</td>\n",
       "      <td>84.251</td>\n",
       "      <td>2608.0</td>\n",
       "      <td>383427.0</td>\n",
       "      <td>1.0</td>\n",
       "    </tr>\n",
       "    <tr>\n",
       "      <th>4</th>\n",
       "      <td>24.00</td>\n",
       "      <td>180.501</td>\n",
       "      <td>12.385</td>\n",
       "      <td>30.22790</td>\n",
       "      <td>115.434</td>\n",
       "      <td>71.518</td>\n",
       "      <td>82.359</td>\n",
       "      <td>3052.0</td>\n",
       "      <td>418474.0</td>\n",
       "      <td>5.0</td>\n",
       "    </tr>\n",
       "  </tbody>\n",
       "</table>\n",
       "</div>"
      ],
      "text/plain": [
       "   ON_STREAM_HRS  AVG_DP_TUBING  AVG_ANNULUS_PRESS  AVG_CHOKE_SIZE_P  \\\n",
       "0          11.50        201.250             18.640          14.48443   \n",
       "1          24.00        182.145             16.467          22.83299   \n",
       "2          22.50        181.868             12.660          31.24997   \n",
       "3          23.15        180.832              5.264          28.51893   \n",
       "4          24.00        180.501             12.385          30.22790   \n",
       "\n",
       "   AVG_WHP_P  AVG_WHT_P  DP_CHOKE_SIZE  BORE_OIL_VOL  BORE_GAS_VOL  \\\n",
       "0    106.806     16.295         92.475         285.0       38889.0   \n",
       "1    120.889     53.374         89.620        1870.0      285246.0   \n",
       "2    113.718     72.738         80.120        3124.0      509955.0   \n",
       "3    116.831     69.996         84.251        2608.0      383427.0   \n",
       "4    115.434     71.518         82.359        3052.0      418474.0   \n",
       "\n",
       "   BORE_WAT_VOL  \n",
       "0         385.0  \n",
       "1           7.0  \n",
       "2           1.0  \n",
       "3           1.0  \n",
       "4           5.0  "
      ]
     },
     "execution_count": 5,
     "metadata": {},
     "output_type": "execute_result"
    }
   ],
   "source": [
    "df.head()"
   ]
  },
  {
   "cell_type": "code",
   "execution_count": 6,
   "id": "52ac1a8d",
   "metadata": {},
   "outputs": [
    {
     "data": {
      "text/html": [
       "<div>\n",
       "<style scoped>\n",
       "    .dataframe tbody tr th:only-of-type {\n",
       "        vertical-align: middle;\n",
       "    }\n",
       "\n",
       "    .dataframe tbody tr th {\n",
       "        vertical-align: top;\n",
       "    }\n",
       "\n",
       "    .dataframe thead th {\n",
       "        text-align: right;\n",
       "    }\n",
       "</style>\n",
       "<table border=\"1\" class=\"dataframe\">\n",
       "  <thead>\n",
       "    <tr style=\"text-align: right;\">\n",
       "      <th></th>\n",
       "      <th>ON_STREAM_HRS</th>\n",
       "      <th>AVG_DP_TUBING</th>\n",
       "      <th>AVG_ANNULUS_PRESS</th>\n",
       "      <th>AVG_CHOKE_SIZE_P</th>\n",
       "      <th>AVG_WHP_P</th>\n",
       "      <th>AVG_WHT_P</th>\n",
       "      <th>DP_CHOKE_SIZE</th>\n",
       "      <th>BORE_OIL_VOL</th>\n",
       "      <th>BORE_GAS_VOL</th>\n",
       "      <th>BORE_WAT_VOL</th>\n",
       "    </tr>\n",
       "  </thead>\n",
       "  <tbody>\n",
       "    <tr>\n",
       "      <th>count</th>\n",
       "      <td>2499.000000</td>\n",
       "      <td>2493.000000</td>\n",
       "      <td>2492.000000</td>\n",
       "      <td>2495.000000</td>\n",
       "      <td>2495.000000</td>\n",
       "      <td>2496.000000</td>\n",
       "      <td>2496.000000</td>\n",
       "      <td>2490.000000</td>\n",
       "      <td>2495.000000</td>\n",
       "      <td>2495.000000</td>\n",
       "    </tr>\n",
       "    <tr>\n",
       "      <th>mean</th>\n",
       "      <td>21.204106</td>\n",
       "      <td>97.328776</td>\n",
       "      <td>16.690249</td>\n",
       "      <td>66.177557</td>\n",
       "      <td>52.143907</td>\n",
       "      <td>80.020514</td>\n",
       "      <td>22.623661</td>\n",
       "      <td>1752.616867</td>\n",
       "      <td>255293.340681</td>\n",
       "      <td>2503.943487</td>\n",
       "    </tr>\n",
       "    <tr>\n",
       "      <th>std</th>\n",
       "      <td>6.970983</td>\n",
       "      <td>74.578452</td>\n",
       "      <td>6.578753</td>\n",
       "      <td>29.862094</td>\n",
       "      <td>24.416289</td>\n",
       "      <td>19.990477</td>\n",
       "      <td>23.531784</td>\n",
       "      <td>1736.284570</td>\n",
       "      <td>245136.405876</td>\n",
       "      <td>2057.812677</td>\n",
       "    </tr>\n",
       "    <tr>\n",
       "      <th>min</th>\n",
       "      <td>0.000000</td>\n",
       "      <td>0.058000</td>\n",
       "      <td>0.000000</td>\n",
       "      <td>0.000000</td>\n",
       "      <td>0.000000</td>\n",
       "      <td>0.035000</td>\n",
       "      <td>0.058000</td>\n",
       "      <td>0.000000</td>\n",
       "      <td>0.000000</td>\n",
       "      <td>-458.000000</td>\n",
       "    </tr>\n",
       "    <tr>\n",
       "      <th>25%</th>\n",
       "      <td>24.000000</td>\n",
       "      <td>33.614000</td>\n",
       "      <td>13.182000</td>\n",
       "      <td>48.259940</td>\n",
       "      <td>33.560500</td>\n",
       "      <td>79.332250</td>\n",
       "      <td>4.868250</td>\n",
       "      <td>295.500000</td>\n",
       "      <td>46059.000000</td>\n",
       "      <td>54.000000</td>\n",
       "    </tr>\n",
       "    <tr>\n",
       "      <th>50%</th>\n",
       "      <td>24.000000</td>\n",
       "      <td>48.992000</td>\n",
       "      <td>16.474500</td>\n",
       "      <td>65.974740</td>\n",
       "      <td>45.963000</td>\n",
       "      <td>88.067500</td>\n",
       "      <td>14.415000</td>\n",
       "      <td>968.500000</td>\n",
       "      <td>149118.000000</td>\n",
       "      <td>3088.000000</td>\n",
       "    </tr>\n",
       "    <tr>\n",
       "      <th>75%</th>\n",
       "      <td>24.000000</td>\n",
       "      <td>175.979000</td>\n",
       "      <td>20.661500</td>\n",
       "      <td>99.169365</td>\n",
       "      <td>64.519500</td>\n",
       "      <td>90.552000</td>\n",
       "      <td>32.230250</td>\n",
       "      <td>3056.250000</td>\n",
       "      <td>445882.000000</td>\n",
       "      <td>4554.000000</td>\n",
       "    </tr>\n",
       "    <tr>\n",
       "      <th>max</th>\n",
       "      <td>25.000000</td>\n",
       "      <td>314.409000</td>\n",
       "      <td>30.020000</td>\n",
       "      <td>100.000000</td>\n",
       "      <td>137.311000</td>\n",
       "      <td>92.459000</td>\n",
       "      <td>124.123000</td>\n",
       "      <td>5902.000000</td>\n",
       "      <td>851132.000000</td>\n",
       "      <td>8020.000000</td>\n",
       "    </tr>\n",
       "  </tbody>\n",
       "</table>\n",
       "</div>"
      ],
      "text/plain": [
       "       ON_STREAM_HRS  AVG_DP_TUBING  AVG_ANNULUS_PRESS  AVG_CHOKE_SIZE_P  \\\n",
       "count    2499.000000    2493.000000        2492.000000       2495.000000   \n",
       "mean       21.204106      97.328776          16.690249         66.177557   \n",
       "std         6.970983      74.578452           6.578753         29.862094   \n",
       "min         0.000000       0.058000           0.000000          0.000000   \n",
       "25%        24.000000      33.614000          13.182000         48.259940   \n",
       "50%        24.000000      48.992000          16.474500         65.974740   \n",
       "75%        24.000000     175.979000          20.661500         99.169365   \n",
       "max        25.000000     314.409000          30.020000        100.000000   \n",
       "\n",
       "         AVG_WHP_P    AVG_WHT_P  DP_CHOKE_SIZE  BORE_OIL_VOL   BORE_GAS_VOL  \\\n",
       "count  2495.000000  2496.000000    2496.000000   2490.000000    2495.000000   \n",
       "mean     52.143907    80.020514      22.623661   1752.616867  255293.340681   \n",
       "std      24.416289    19.990477      23.531784   1736.284570  245136.405876   \n",
       "min       0.000000     0.035000       0.058000      0.000000       0.000000   \n",
       "25%      33.560500    79.332250       4.868250    295.500000   46059.000000   \n",
       "50%      45.963000    88.067500      14.415000    968.500000  149118.000000   \n",
       "75%      64.519500    90.552000      32.230250   3056.250000  445882.000000   \n",
       "max     137.311000    92.459000     124.123000   5902.000000  851132.000000   \n",
       "\n",
       "       BORE_WAT_VOL  \n",
       "count   2495.000000  \n",
       "mean    2503.943487  \n",
       "std     2057.812677  \n",
       "min     -458.000000  \n",
       "25%       54.000000  \n",
       "50%     3088.000000  \n",
       "75%     4554.000000  \n",
       "max     8020.000000  "
      ]
     },
     "execution_count": 6,
     "metadata": {},
     "output_type": "execute_result"
    }
   ],
   "source": [
    "df.describe()"
   ]
  },
  {
   "cell_type": "code",
   "execution_count": 7,
   "id": "2356863d",
   "metadata": {},
   "outputs": [
    {
     "data": {
      "text/html": [
       "<div>\n",
       "<style scoped>\n",
       "    .dataframe tbody tr th:only-of-type {\n",
       "        vertical-align: middle;\n",
       "    }\n",
       "\n",
       "    .dataframe tbody tr th {\n",
       "        vertical-align: top;\n",
       "    }\n",
       "\n",
       "    .dataframe thead th {\n",
       "        text-align: right;\n",
       "    }\n",
       "</style>\n",
       "<table border=\"1\" class=\"dataframe\">\n",
       "  <thead>\n",
       "    <tr style=\"text-align: right;\">\n",
       "      <th></th>\n",
       "      <th>ON_STREAM_HRS</th>\n",
       "      <th>AVG_DP_TUBING</th>\n",
       "      <th>AVG_ANNULUS_PRESS</th>\n",
       "      <th>AVG_CHOKE_SIZE_P</th>\n",
       "      <th>AVG_WHP_P</th>\n",
       "      <th>AVG_WHT_P</th>\n",
       "      <th>DP_CHOKE_SIZE</th>\n",
       "      <th>BORE_OIL_VOL</th>\n",
       "      <th>BORE_GAS_VOL</th>\n",
       "      <th>BORE_WAT_VOL</th>\n",
       "    </tr>\n",
       "  </thead>\n",
       "  <tbody>\n",
       "    <tr>\n",
       "      <th>ON_STREAM_HRS</th>\n",
       "      <td>1.000000</td>\n",
       "      <td>0.019157</td>\n",
       "      <td>0.612369</td>\n",
       "      <td>0.651203</td>\n",
       "      <td>-0.129777</td>\n",
       "      <td>0.835241</td>\n",
       "      <td>-0.312762</td>\n",
       "      <td>0.346313</td>\n",
       "      <td>0.356857</td>\n",
       "      <td>0.404652</td>\n",
       "    </tr>\n",
       "    <tr>\n",
       "      <th>AVG_DP_TUBING</th>\n",
       "      <td>0.019157</td>\n",
       "      <td>1.000000</td>\n",
       "      <td>0.039499</td>\n",
       "      <td>-0.443324</td>\n",
       "      <td>0.649699</td>\n",
       "      <td>-0.193916</td>\n",
       "      <td>0.610554</td>\n",
       "      <td>0.751413</td>\n",
       "      <td>0.746197</td>\n",
       "      <td>-0.681859</td>\n",
       "    </tr>\n",
       "    <tr>\n",
       "      <th>AVG_ANNULUS_PRESS</th>\n",
       "      <td>0.612369</td>\n",
       "      <td>0.039499</td>\n",
       "      <td>1.000000</td>\n",
       "      <td>0.339600</td>\n",
       "      <td>-0.167605</td>\n",
       "      <td>0.630307</td>\n",
       "      <td>-0.318541</td>\n",
       "      <td>0.146226</td>\n",
       "      <td>0.146906</td>\n",
       "      <td>0.308780</td>\n",
       "    </tr>\n",
       "    <tr>\n",
       "      <th>AVG_CHOKE_SIZE_P</th>\n",
       "      <td>0.651203</td>\n",
       "      <td>-0.443324</td>\n",
       "      <td>0.339600</td>\n",
       "      <td>1.000000</td>\n",
       "      <td>-0.590928</td>\n",
       "      <td>0.753879</td>\n",
       "      <td>-0.697828</td>\n",
       "      <td>-0.156612</td>\n",
       "      <td>-0.154125</td>\n",
       "      <td>0.793581</td>\n",
       "    </tr>\n",
       "    <tr>\n",
       "      <th>AVG_WHP_P</th>\n",
       "      <td>-0.129777</td>\n",
       "      <td>0.649699</td>\n",
       "      <td>-0.167605</td>\n",
       "      <td>-0.590928</td>\n",
       "      <td>1.000000</td>\n",
       "      <td>-0.363425</td>\n",
       "      <td>0.960533</td>\n",
       "      <td>0.476642</td>\n",
       "      <td>0.479222</td>\n",
       "      <td>-0.673222</td>\n",
       "    </tr>\n",
       "    <tr>\n",
       "      <th>AVG_WHT_P</th>\n",
       "      <td>0.835241</td>\n",
       "      <td>-0.193916</td>\n",
       "      <td>0.630307</td>\n",
       "      <td>0.753879</td>\n",
       "      <td>-0.363425</td>\n",
       "      <td>1.000000</td>\n",
       "      <td>-0.558867</td>\n",
       "      <td>0.108877</td>\n",
       "      <td>0.117924</td>\n",
       "      <td>0.582176</td>\n",
       "    </tr>\n",
       "    <tr>\n",
       "      <th>DP_CHOKE_SIZE</th>\n",
       "      <td>-0.312762</td>\n",
       "      <td>0.610554</td>\n",
       "      <td>-0.318541</td>\n",
       "      <td>-0.697828</td>\n",
       "      <td>0.960533</td>\n",
       "      <td>-0.558867</td>\n",
       "      <td>1.000000</td>\n",
       "      <td>0.377183</td>\n",
       "      <td>0.378724</td>\n",
       "      <td>-0.720370</td>\n",
       "    </tr>\n",
       "    <tr>\n",
       "      <th>BORE_OIL_VOL</th>\n",
       "      <td>0.346313</td>\n",
       "      <td>0.751413</td>\n",
       "      <td>0.146226</td>\n",
       "      <td>-0.156612</td>\n",
       "      <td>0.476642</td>\n",
       "      <td>0.108877</td>\n",
       "      <td>0.377183</td>\n",
       "      <td>1.000000</td>\n",
       "      <td>0.998479</td>\n",
       "      <td>-0.601542</td>\n",
       "    </tr>\n",
       "    <tr>\n",
       "      <th>BORE_GAS_VOL</th>\n",
       "      <td>0.356857</td>\n",
       "      <td>0.746197</td>\n",
       "      <td>0.146906</td>\n",
       "      <td>-0.154125</td>\n",
       "      <td>0.479222</td>\n",
       "      <td>0.117924</td>\n",
       "      <td>0.378724</td>\n",
       "      <td>0.998479</td>\n",
       "      <td>1.000000</td>\n",
       "      <td>-0.593026</td>\n",
       "    </tr>\n",
       "    <tr>\n",
       "      <th>BORE_WAT_VOL</th>\n",
       "      <td>0.404652</td>\n",
       "      <td>-0.681859</td>\n",
       "      <td>0.308780</td>\n",
       "      <td>0.793581</td>\n",
       "      <td>-0.673222</td>\n",
       "      <td>0.582176</td>\n",
       "      <td>-0.720370</td>\n",
       "      <td>-0.601542</td>\n",
       "      <td>-0.593026</td>\n",
       "      <td>1.000000</td>\n",
       "    </tr>\n",
       "  </tbody>\n",
       "</table>\n",
       "</div>"
      ],
      "text/plain": [
       "                   ON_STREAM_HRS  AVG_DP_TUBING  AVG_ANNULUS_PRESS  \\\n",
       "ON_STREAM_HRS           1.000000       0.019157           0.612369   \n",
       "AVG_DP_TUBING           0.019157       1.000000           0.039499   \n",
       "AVG_ANNULUS_PRESS       0.612369       0.039499           1.000000   \n",
       "AVG_CHOKE_SIZE_P        0.651203      -0.443324           0.339600   \n",
       "AVG_WHP_P              -0.129777       0.649699          -0.167605   \n",
       "AVG_WHT_P               0.835241      -0.193916           0.630307   \n",
       "DP_CHOKE_SIZE          -0.312762       0.610554          -0.318541   \n",
       "BORE_OIL_VOL            0.346313       0.751413           0.146226   \n",
       "BORE_GAS_VOL            0.356857       0.746197           0.146906   \n",
       "BORE_WAT_VOL            0.404652      -0.681859           0.308780   \n",
       "\n",
       "                   AVG_CHOKE_SIZE_P  AVG_WHP_P  AVG_WHT_P  DP_CHOKE_SIZE  \\\n",
       "ON_STREAM_HRS              0.651203  -0.129777   0.835241      -0.312762   \n",
       "AVG_DP_TUBING             -0.443324   0.649699  -0.193916       0.610554   \n",
       "AVG_ANNULUS_PRESS          0.339600  -0.167605   0.630307      -0.318541   \n",
       "AVG_CHOKE_SIZE_P           1.000000  -0.590928   0.753879      -0.697828   \n",
       "AVG_WHP_P                 -0.590928   1.000000  -0.363425       0.960533   \n",
       "AVG_WHT_P                  0.753879  -0.363425   1.000000      -0.558867   \n",
       "DP_CHOKE_SIZE             -0.697828   0.960533  -0.558867       1.000000   \n",
       "BORE_OIL_VOL              -0.156612   0.476642   0.108877       0.377183   \n",
       "BORE_GAS_VOL              -0.154125   0.479222   0.117924       0.378724   \n",
       "BORE_WAT_VOL               0.793581  -0.673222   0.582176      -0.720370   \n",
       "\n",
       "                   BORE_OIL_VOL  BORE_GAS_VOL  BORE_WAT_VOL  \n",
       "ON_STREAM_HRS          0.346313      0.356857      0.404652  \n",
       "AVG_DP_TUBING          0.751413      0.746197     -0.681859  \n",
       "AVG_ANNULUS_PRESS      0.146226      0.146906      0.308780  \n",
       "AVG_CHOKE_SIZE_P      -0.156612     -0.154125      0.793581  \n",
       "AVG_WHP_P              0.476642      0.479222     -0.673222  \n",
       "AVG_WHT_P              0.108877      0.117924      0.582176  \n",
       "DP_CHOKE_SIZE          0.377183      0.378724     -0.720370  \n",
       "BORE_OIL_VOL           1.000000      0.998479     -0.601542  \n",
       "BORE_GAS_VOL           0.998479      1.000000     -0.593026  \n",
       "BORE_WAT_VOL          -0.601542     -0.593026      1.000000  "
      ]
     },
     "execution_count": 7,
     "metadata": {},
     "output_type": "execute_result"
    }
   ],
   "source": [
    "df.corr()"
   ]
  },
  {
   "cell_type": "code",
   "execution_count": 8,
   "id": "7b8477b7",
   "metadata": {},
   "outputs": [],
   "source": [
    "df_mod = df"
   ]
  },
  {
   "cell_type": "code",
   "execution_count": 9,
   "id": "5399de95",
   "metadata": {},
   "outputs": [],
   "source": [
    "#df_mod['AVG_DOWNHOLE_PRESSURE'] = df_mod['AVG_DOWNHOLE_PRESSURE'].replace(0, np.NaN)\n",
    "#df_mod['AVG_DOWNHOLE_TEMPERATURE'] = df_mod['AVG_DOWNHOLE_TEMPERATURE'].replace(0, np.NaN)\n"
   ]
  },
  {
   "cell_type": "code",
   "execution_count": 10,
   "id": "a63ccd37",
   "metadata": {},
   "outputs": [],
   "source": [
    "#df_mod['AVG_DOWNHOLE_PRESSURE'].fillna(df_mod['AVG_DOWNHOLE_PRESSURE'].mean(),inplace=True)\n",
    "#df_mod['AVG_DOWNHOLE_TEMPERATURE'].fillna(df_mod['AVG_DOWNHOLE_TEMPERATURE'].mean(),inplace=True)"
   ]
  },
  {
   "cell_type": "code",
   "execution_count": 11,
   "id": "db6741d9",
   "metadata": {},
   "outputs": [],
   "source": [
    "#df_mod.dropna(index=['ON_STREAM_HRS'],inplace=True)"
   ]
  },
  {
   "cell_type": "code",
   "execution_count": 12,
   "id": "8bee214a",
   "metadata": {},
   "outputs": [],
   "source": [
    "df_mod['AVG_DP_TUBING'].fillna(method='ffill', inplace=True)"
   ]
  },
  {
   "cell_type": "code",
   "execution_count": 13,
   "id": "494c8bda",
   "metadata": {},
   "outputs": [],
   "source": [
    "df_mod['AVG_ANNULUS_PRESS'].fillna(method='bfill', inplace=True)"
   ]
  },
  {
   "cell_type": "code",
   "execution_count": 14,
   "id": "1077a2c7",
   "metadata": {},
   "outputs": [],
   "source": [
    "df_mod['AVG_CHOKE_SIZE_P'].fillna(method='ffill', inplace=True)"
   ]
  },
  {
   "cell_type": "code",
   "execution_count": 15,
   "id": "be755542",
   "metadata": {},
   "outputs": [],
   "source": [
    "df_mod['AVG_WHP_P'].fillna(method='ffill', inplace=True)"
   ]
  },
  {
   "cell_type": "code",
   "execution_count": 16,
   "id": "02fb8d3b",
   "metadata": {},
   "outputs": [],
   "source": [
    "df_mod['AVG_WHT_P'].fillna(method='ffill', inplace=True)"
   ]
  },
  {
   "cell_type": "code",
   "execution_count": 17,
   "id": "63c05fa7",
   "metadata": {},
   "outputs": [],
   "source": [
    "df_mod['DP_CHOKE_SIZE'].fillna(method='ffill', inplace=True)"
   ]
  },
  {
   "cell_type": "code",
   "execution_count": 18,
   "id": "ad83a372",
   "metadata": {},
   "outputs": [],
   "source": [
    "df_mod['BORE_GAS_VOL'].fillna(method='ffill', inplace=True)"
   ]
  },
  {
   "cell_type": "code",
   "execution_count": 19,
   "id": "641b18b1",
   "metadata": {},
   "outputs": [],
   "source": [
    "df_mod['BORE_WAT_VOL'].fillna(method='ffill', inplace=True)"
   ]
  },
  {
   "cell_type": "code",
   "execution_count": 20,
   "id": "74370b66",
   "metadata": {},
   "outputs": [],
   "source": [
    "indices = df_mod[df_mod['BORE_OIL_VOL'].isnull()].index.tolist()"
   ]
  },
  {
   "cell_type": "code",
   "execution_count": 21,
   "id": "d0aa7ddf",
   "metadata": {},
   "outputs": [
    {
     "data": {
      "text/plain": [
       "[22, 155, 345, 527, 790, 1626, 1688, 1695, 1748, 1946]"
      ]
     },
     "execution_count": 21,
     "metadata": {},
     "output_type": "execute_result"
    }
   ],
   "source": [
    "indices"
   ]
  },
  {
   "cell_type": "code",
   "execution_count": 22,
   "id": "fa97c518",
   "metadata": {},
   "outputs": [],
   "source": [
    "back = np.array(indices) - 1\n",
    "front = np.array(indices) + 1"
   ]
  },
  {
   "cell_type": "code",
   "execution_count": 23,
   "id": "2420965f",
   "metadata": {},
   "outputs": [
    {
     "data": {
      "text/plain": [
       "22     NaN\n",
       "155    NaN\n",
       "345    NaN\n",
       "527    NaN\n",
       "790    NaN\n",
       "1626   NaN\n",
       "1688   NaN\n",
       "1695   NaN\n",
       "1748   NaN\n",
       "1946   NaN\n",
       "Name: BORE_OIL_VOL, dtype: float64"
      ]
     },
     "execution_count": 23,
     "metadata": {},
     "output_type": "execute_result"
    }
   ],
   "source": [
    "df_mod.iloc[np.array(indices),7]"
   ]
  },
  {
   "cell_type": "code",
   "execution_count": 24,
   "id": "0135d94d",
   "metadata": {},
   "outputs": [],
   "source": [
    "mid_val = np.zeros(10)#np.array((df_mod.iloc[back,9] + df_mod.iloc[front,9]))\n",
    "for i in range(10):\n",
    "    mid_val[i] = (df_mod.iloc[back[i],7] + df_mod.iloc[front[i],7])/2.0"
   ]
  },
  {
   "cell_type": "code",
   "execution_count": 25,
   "id": "95bce76f",
   "metadata": {},
   "outputs": [],
   "source": [
    "mid_val = mid_val.reshape(10,1)"
   ]
  },
  {
   "cell_type": "code",
   "execution_count": 26,
   "id": "9a4f3cfb",
   "metadata": {},
   "outputs": [
    {
     "data": {
      "text/plain": [
       "array([[2967. ],\n",
       "       [3371.5],\n",
       "       [4497. ],\n",
       "       [3720.5],\n",
       "       [3080. ],\n",
       "       [ 785. ],\n",
       "       [ 602. ],\n",
       "       [ 530. ],\n",
       "       [ 557. ],\n",
       "       [ 510.5]])"
      ]
     },
     "execution_count": 26,
     "metadata": {},
     "output_type": "execute_result"
    }
   ],
   "source": [
    "mid_val"
   ]
  },
  {
   "cell_type": "code",
   "execution_count": 27,
   "id": "4e13d323",
   "metadata": {},
   "outputs": [],
   "source": [
    "pos = 0\n",
    "for idx in indices:\n",
    "    df_mod.iloc[idx,7] = mid_val[pos]\n",
    "    pos = pos + 1"
   ]
  },
  {
   "cell_type": "code",
   "execution_count": 28,
   "id": "28cd8bba",
   "metadata": {},
   "outputs": [
    {
     "data": {
      "text/plain": [
       "ON_STREAM_HRS         True\n",
       "AVG_DP_TUBING        False\n",
       "AVG_ANNULUS_PRESS    False\n",
       "AVG_CHOKE_SIZE_P     False\n",
       "AVG_WHP_P            False\n",
       "AVG_WHT_P            False\n",
       "DP_CHOKE_SIZE        False\n",
       "BORE_OIL_VOL         False\n",
       "BORE_GAS_VOL         False\n",
       "BORE_WAT_VOL         False\n",
       "dtype: bool"
      ]
     },
     "execution_count": 28,
     "metadata": {},
     "output_type": "execute_result"
    }
   ],
   "source": [
    "df_mod.isna().any()"
   ]
  },
  {
   "cell_type": "code",
   "execution_count": 29,
   "id": "498fc0ee",
   "metadata": {},
   "outputs": [],
   "source": [
    "df_mod.dropna(inplace=True)"
   ]
  },
  {
   "cell_type": "code",
   "execution_count": 30,
   "id": "3bde5b38",
   "metadata": {},
   "outputs": [
    {
     "data": {
      "text/plain": [
       "ON_STREAM_HRS        False\n",
       "AVG_DP_TUBING        False\n",
       "AVG_ANNULUS_PRESS    False\n",
       "AVG_CHOKE_SIZE_P     False\n",
       "AVG_WHP_P            False\n",
       "AVG_WHT_P            False\n",
       "DP_CHOKE_SIZE        False\n",
       "BORE_OIL_VOL         False\n",
       "BORE_GAS_VOL         False\n",
       "BORE_WAT_VOL         False\n",
       "dtype: bool"
      ]
     },
     "execution_count": 30,
     "metadata": {},
     "output_type": "execute_result"
    }
   ],
   "source": [
    "df_mod.isna().any()"
   ]
  },
  {
   "cell_type": "code",
   "execution_count": 31,
   "id": "ec959efd",
   "metadata": {},
   "outputs": [
    {
     "data": {
      "text/plain": [
       "[]"
      ]
     },
     "execution_count": 31,
     "metadata": {},
     "output_type": "execute_result"
    }
   ],
   "source": [
    "df_mod[df_mod['BORE_OIL_VOL'].isnull()].index.tolist()"
   ]
  },
  {
   "cell_type": "code",
   "execution_count": 32,
   "id": "a8e4cb25",
   "metadata": {},
   "outputs": [],
   "source": [
    "X = df_mod.drop(columns=['BORE_OIL_VOL'])#,'DP_CHOKE_SIZE'])\n",
    "y = df_mod['BORE_OIL_VOL']"
   ]
  },
  {
   "cell_type": "code",
   "execution_count": 33,
   "id": "422ca0b4",
   "metadata": {},
   "outputs": [],
   "source": [
    "from sklearn.model_selection import train_test_split"
   ]
  },
  {
   "cell_type": "code",
   "execution_count": 34,
   "id": "73920225",
   "metadata": {},
   "outputs": [],
   "source": [
    "x_train, x_test, y_train, y_test = train_test_split(X,y,test_size=0.2,random_state=42)"
   ]
  },
  {
   "cell_type": "code",
   "execution_count": 35,
   "id": "a78b1fb4",
   "metadata": {},
   "outputs": [
    {
     "data": {
      "text/plain": [
       "1999"
      ]
     },
     "execution_count": 35,
     "metadata": {},
     "output_type": "execute_result"
    }
   ],
   "source": [
    "len(x_train)"
   ]
  },
  {
   "cell_type": "code",
   "execution_count": 36,
   "id": "2533eeb5",
   "metadata": {},
   "outputs": [
    {
     "data": {
      "text/plain": [
       "500"
      ]
     },
     "execution_count": 36,
     "metadata": {},
     "output_type": "execute_result"
    }
   ],
   "source": [
    "len(x_test)"
   ]
  },
  {
   "cell_type": "code",
   "execution_count": 37,
   "id": "3694f429",
   "metadata": {},
   "outputs": [
    {
     "data": {
      "text/plain": [
       "Index(['ON_STREAM_HRS', 'AVG_DP_TUBING', 'AVG_ANNULUS_PRESS',\n",
       "       'AVG_CHOKE_SIZE_P', 'AVG_WHP_P', 'AVG_WHT_P', 'DP_CHOKE_SIZE',\n",
       "       'BORE_GAS_VOL', 'BORE_WAT_VOL'],\n",
       "      dtype='object')"
      ]
     },
     "execution_count": 37,
     "metadata": {},
     "output_type": "execute_result"
    }
   ],
   "source": [
    "x_train.columns"
   ]
  },
  {
   "cell_type": "code",
   "execution_count": 38,
   "id": "1bc84b29",
   "metadata": {},
   "outputs": [
    {
     "data": {
      "text/plain": [
       "9"
      ]
     },
     "execution_count": 38,
     "metadata": {},
     "output_type": "execute_result"
    }
   ],
   "source": [
    "len(x_train.columns)"
   ]
  },
  {
   "cell_type": "code",
   "execution_count": 39,
   "id": "6ab84399",
   "metadata": {},
   "outputs": [],
   "source": [
    "from sklearn.metrics import mean_squared_error"
   ]
  },
  {
   "cell_type": "code",
   "execution_count": 40,
   "id": "7358ad8a",
   "metadata": {},
   "outputs": [],
   "source": [
    "from xgboost import XGBRegressor"
   ]
  },
  {
   "cell_type": "code",
   "execution_count": 41,
   "id": "de1fd484",
   "metadata": {},
   "outputs": [],
   "source": [
    "model = XGBRegressor(\n",
    "                    max_depth=5,\n",
    "                    gamma=179,\n",
    "                    eta=0.1,\n",
    "                    reg_alpha=0.6,\n",
    "                    reg_lambda=0.5,\n",
    "                    n_estimators=500,\n",
    "                    random_state=21,\n",
    "                    #verbose=1\n",
    "                    )"
   ]
  },
  {
   "cell_type": "code",
   "execution_count": 42,
   "id": "5c4d30ca",
   "metadata": {},
   "outputs": [
    {
     "data": {
      "text/plain": [
       "XGBRegressor(base_score=0.5, booster='gbtree', colsample_bylevel=1,\n",
       "             colsample_bynode=1, colsample_bytree=1, eta=0.1, gamma=179,\n",
       "             gpu_id=-1, importance_type='gain', interaction_constraints='',\n",
       "             learning_rate=0.100000001, max_delta_step=0, max_depth=5,\n",
       "             min_child_weight=1, missing=nan, monotone_constraints='()',\n",
       "             n_estimators=500, n_jobs=4, num_parallel_tree=1, random_state=21,\n",
       "             reg_alpha=0.6, reg_lambda=0.5, scale_pos_weight=1, subsample=1,\n",
       "             tree_method='exact', validate_parameters=1, verbosity=None)"
      ]
     },
     "execution_count": 42,
     "metadata": {},
     "output_type": "execute_result"
    }
   ],
   "source": [
    "model.fit(x_train,y_train)"
   ]
  },
  {
   "cell_type": "code",
   "execution_count": 43,
   "id": "600821f7",
   "metadata": {},
   "outputs": [
    {
     "name": "stderr",
     "output_type": "stream",
     "text": [
      "d:\\installlocation\\lib\\site-packages\\xgboost\\data.py:112: UserWarning: Use subset (sliced data) of np.ndarray is not recommended because it will generate extra copies and increase memory consumption\n",
      "  warnings.warn(\n"
     ]
    }
   ],
   "source": [
    "y_hat = model.predict(x_test)"
   ]
  },
  {
   "cell_type": "code",
   "execution_count": 44,
   "id": "d22c88b5",
   "metadata": {},
   "outputs": [
    {
     "data": {
      "image/png": "[encoded data removed]",
      "text/plain": [
       "<Figure size 432x288 with 1 Axes>"
      ]
     },
     "metadata": {
      "needs_background": "light"
     },
     "output_type": "display_data"
    }
   ],
   "source": [
    "from xgboost import plot_importance\n",
    "plot_importance(model, max_num_features=11) \n",
    "plt.show()"
   ]
  },
  {
   "cell_type": "code",
   "execution_count": 45,
   "id": "e9577e95",
   "metadata": {},
   "outputs": [
    {
     "name": "stdout",
     "output_type": "stream",
     "text": [
      "Train Mean Squared Error : 71.05887618670154\n",
      "Test Mean Squared Error : 3483.9709608122344\n"
     ]
    }
   ],
   "source": [
    "print(\"Train Mean Squared Error :\",mean_squared_error(model.predict(x_train),y_train))\n",
    "print(\"Test Mean Squared Error :\",mean_squared_error(y_hat,y_test))"
   ]
  },
  {
   "cell_type": "code",
   "execution_count": null,
   "id": "fe95878b",
   "metadata": {},
   "outputs": [],
   "source": []
  },
  {
   "cell_type": "code",
   "execution_count": null,
   "id": "ab3c5d9c",
   "metadata": {},
   "outputs": [],
   "source": []
  }
 ],
 "metadata": {
  "kernelspec": {
   "display_name": "Python 3",
   "language": "python",
   "name": "python3"
  },
  "language_info": {
   "codemirror_mode": {
    "name": "ipython",
    "version": 3
   },
   "file_extension": ".py",
   "mimetype": "text/x-python",
   "name": "python",
   "nbconvert_exporter": "python",
   "pygments_lexer": "ipython3",
   "version": "3.8.6"
  }
 },
 "nbformat": 4,
 "nbformat_minor": 5
}
